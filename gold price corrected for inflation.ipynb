{
 "cells": [
  {
   "cell_type": "code",
   "execution_count": 1,
   "metadata": {},
   "outputs": [],
   "source": [
    "import numpy as np\n",
    "import pandas as pd\n",
    "import matplotlib.pyplot as plt\n",
    "from matplotlib import style\n",
    "%matplotlib inline\n",
    "import datetime as dt"
   ]
  },
  {
   "cell_type": "markdown",
   "metadata": {},
   "source": [
    "Building DataFrames for gold price and inflation for Europe/Germany: "
   ]
  },
  {
   "cell_type": "code",
   "execution_count": 2,
   "metadata": {},
   "outputs": [],
   "source": [
    "### Loading gold and inflation data from Kaggle:\n",
    "\n",
    "df_gold = pd.read_csv('Data/gold_1.csv')\n",
    "\n",
    "df_inf = pd.read_csv('Data/inflation.csv', skiprows=4)"
   ]
  },
  {
   "cell_type": "code",
   "execution_count": 3,
   "metadata": {},
   "outputs": [],
   "source": [
    "### Rounding the numbers:\n",
    "df_inf = df_inf.round(1)\n",
    "\n",
    "### Setting country name as index:\n",
    "df_inf = df_inf.set_index('Country Name')"
   ]
  },
  {
   "cell_type": "code",
   "execution_count": 4,
   "metadata": {},
   "outputs": [],
   "source": [
    "### Building and manipulating inflation DataFrame for Germany:\n",
    "\n",
    "df_inf_ger = df_inf.loc['Germany'].drop(labels=['Country Code', 'Indicator Name', 'Indicator Code'],axis=0)\n",
    "\n",
    "df_inf_ger = pd.DataFrame({'': df_inf_ger.index, 'inflation for this year in %': df_inf_ger.values})\n",
    "\n",
    "df_inf_ger = df_inf_ger.set_index('')\n",
    "\n",
    "df_inf_ger = df_inf_ger.drop(['Unnamed: 66','2021'], axis='index')"
   ]
  },
  {
   "cell_type": "code",
   "execution_count": 41,
   "metadata": {},
   "outputs": [
    {
     "data": {
      "text/html": [
       "<div>\n",
       "<style scoped>\n",
       "    .dataframe tbody tr th:only-of-type {\n",
       "        vertical-align: middle;\n",
       "    }\n",
       "\n",
       "    .dataframe tbody tr th {\n",
       "        vertical-align: top;\n",
       "    }\n",
       "\n",
       "    .dataframe thead th {\n",
       "        text-align: right;\n",
       "    }\n",
       "</style>\n",
       "<table border=\"1\" class=\"dataframe\">\n",
       "  <thead>\n",
       "    <tr style=\"text-align: right;\">\n",
       "      <th></th>\n",
       "      <th>inflation for this year in %</th>\n",
       "      <th>Inflation Faktor</th>\n",
       "      <th>year</th>\n",
       "    </tr>\n",
       "    <tr>\n",
       "      <th></th>\n",
       "      <th></th>\n",
       "      <th></th>\n",
       "      <th></th>\n",
       "    </tr>\n",
       "  </thead>\n",
       "  <tbody>\n",
       "    <tr>\n",
       "      <th>1960</th>\n",
       "      <td>1.5</td>\n",
       "      <td>1.015</td>\n",
       "      <td>1960</td>\n",
       "    </tr>\n",
       "    <tr>\n",
       "      <th>1961</th>\n",
       "      <td>2.3</td>\n",
       "      <td>1.023</td>\n",
       "      <td>1961</td>\n",
       "    </tr>\n",
       "    <tr>\n",
       "      <th>1962</th>\n",
       "      <td>2.8</td>\n",
       "      <td>1.028</td>\n",
       "      <td>1962</td>\n",
       "    </tr>\n",
       "    <tr>\n",
       "      <th>1963</th>\n",
       "      <td>3</td>\n",
       "      <td>1.03</td>\n",
       "      <td>1963</td>\n",
       "    </tr>\n",
       "    <tr>\n",
       "      <th>1964</th>\n",
       "      <td>2.3</td>\n",
       "      <td>1.023</td>\n",
       "      <td>1964</td>\n",
       "    </tr>\n",
       "  </tbody>\n",
       "</table>\n",
       "</div>"
      ],
      "text/plain": [
       "     inflation for this year in % Inflation Faktor  year\n",
       "                                                        \n",
       "1960                          1.5            1.015  1960\n",
       "1961                          2.3            1.023  1961\n",
       "1962                          2.8            1.028  1962\n",
       "1963                            3             1.03  1963\n",
       "1964                          2.3            1.023  1964"
      ]
     },
     "execution_count": 41,
     "metadata": {},
     "output_type": "execute_result"
    }
   ],
   "source": [
    "df_inf_ger.head()"
   ]
  },
  {
   "cell_type": "code",
   "execution_count": null,
   "metadata": {},
   "outputs": [],
   "source": []
  },
  {
   "cell_type": "markdown",
   "metadata": {},
   "source": [
    "Manipulating gold dataframe and extracting data for euro zone:"
   ]
  },
  {
   "cell_type": "code",
   "execution_count": 6,
   "metadata": {},
   "outputs": [],
   "source": [
    "### Adding year/month/date columns:\n",
    "\n",
    "df_gold['Date'] = pd.to_datetime(df_gold['Date'])\n",
    "\n",
    "df_gold['months'] = df_gold['Date'].dt.month \n",
    "\n",
    "df_gold['year']  = df_gold['Date'].dt.year\n",
    "\n",
    "\n",
    "### Building gold DatafFrame for Europe:\n",
    "\n",
    "df_gold = df_gold.set_index('Date')\n",
    "\n",
    "df_gold_eur = df_gold['Europe(EUR)']\n",
    "\n",
    "df_gold_eur = pd.DataFrame({'': df_gold_eur.index, 'gold in eur per oz': df_gold_eur.values})"
   ]
  },
  {
   "cell_type": "code",
   "execution_count": 7,
   "metadata": {},
   "outputs": [
    {
     "data": {
      "text/html": [
       "<div>\n",
       "<style scoped>\n",
       "    .dataframe tbody tr th:only-of-type {\n",
       "        vertical-align: middle;\n",
       "    }\n",
       "\n",
       "    .dataframe tbody tr th {\n",
       "        vertical-align: top;\n",
       "    }\n",
       "\n",
       "    .dataframe thead th {\n",
       "        text-align: right;\n",
       "    }\n",
       "</style>\n",
       "<table border=\"1\" class=\"dataframe\">\n",
       "  <thead>\n",
       "    <tr style=\"text-align: right;\">\n",
       "      <th></th>\n",
       "      <th></th>\n",
       "      <th>gold in eur per oz</th>\n",
       "    </tr>\n",
       "  </thead>\n",
       "  <tbody>\n",
       "    <tr>\n",
       "      <th>0</th>\n",
       "      <td>1979-01-31</td>\n",
       "      <td>144.8</td>\n",
       "    </tr>\n",
       "    <tr>\n",
       "      <th>1</th>\n",
       "      <td>1979-02-28</td>\n",
       "      <td>154.6</td>\n",
       "    </tr>\n",
       "    <tr>\n",
       "      <th>2</th>\n",
       "      <td>1979-03-30</td>\n",
       "      <td>148.0</td>\n",
       "    </tr>\n",
       "    <tr>\n",
       "      <th>3</th>\n",
       "      <td>1979-04-30</td>\n",
       "      <td>152.8</td>\n",
       "    </tr>\n",
       "    <tr>\n",
       "      <th>4</th>\n",
       "      <td>1979-05-31</td>\n",
       "      <td>172.0</td>\n",
       "    </tr>\n",
       "  </tbody>\n",
       "</table>\n",
       "</div>"
      ],
      "text/plain": [
       "              gold in eur per oz\n",
       "0 1979-01-31               144.8\n",
       "1 1979-02-28               154.6\n",
       "2 1979-03-30               148.0\n",
       "3 1979-04-30               152.8\n",
       "4 1979-05-31               172.0"
      ]
     },
     "execution_count": 7,
     "metadata": {},
     "output_type": "execute_result"
    }
   ],
   "source": [
    "df_gold_eur.head()"
   ]
  },
  {
   "cell_type": "code",
   "execution_count": 8,
   "metadata": {},
   "outputs": [],
   "source": [
    "df_inf_ger['Inflation Faktor'] = (100 + df_inf_ger['inflation for this year in %'])/100\n",
    "\n",
    "df_gold_eur = df_gold_eur.set_index('')\n",
    "\n",
    "df_gold_eur['year'] = df_gold_eur.index.year\n",
    "\n",
    "columns_titles = [\"year\",\"gold in eur per oz\"]\n",
    "df_gold_eur = df_gold_eur.reindex(columns=columns_titles)\n",
    "\n",
    "\n",
    "\n",
    "\n",
    "df_inf_ger['year'] = df_inf_ger.index.astype('int64')\n",
    "\n",
    "df_gold_eur['date'] = df_gold_eur.index"
   ]
  },
  {
   "cell_type": "code",
   "execution_count": 9,
   "metadata": {},
   "outputs": [],
   "source": [
    "df_new = pd.merge(df_gold_eur, df_inf_ger, on = 'year')"
   ]
  },
  {
   "cell_type": "code",
   "execution_count": 10,
   "metadata": {},
   "outputs": [
    {
     "data": {
      "text/html": [
       "<div>\n",
       "<style scoped>\n",
       "    .dataframe tbody tr th:only-of-type {\n",
       "        vertical-align: middle;\n",
       "    }\n",
       "\n",
       "    .dataframe tbody tr th {\n",
       "        vertical-align: top;\n",
       "    }\n",
       "\n",
       "    .dataframe thead th {\n",
       "        text-align: right;\n",
       "    }\n",
       "</style>\n",
       "<table border=\"1\" class=\"dataframe\">\n",
       "  <thead>\n",
       "    <tr style=\"text-align: right;\">\n",
       "      <th></th>\n",
       "      <th>year</th>\n",
       "      <th>gold in eur per oz</th>\n",
       "      <th>date</th>\n",
       "      <th>inflation for this year in %</th>\n",
       "      <th>Inflation Faktor</th>\n",
       "    </tr>\n",
       "  </thead>\n",
       "  <tbody>\n",
       "    <tr>\n",
       "      <th>499</th>\n",
       "      <td>2020</td>\n",
       "      <td>1636.7</td>\n",
       "      <td>2020-08-31</td>\n",
       "      <td>0.5</td>\n",
       "      <td>1.005</td>\n",
       "    </tr>\n",
       "    <tr>\n",
       "      <th>500</th>\n",
       "      <td>2020</td>\n",
       "      <td>1609.1</td>\n",
       "      <td>2020-09-30</td>\n",
       "      <td>0.5</td>\n",
       "      <td>1.005</td>\n",
       "    </tr>\n",
       "    <tr>\n",
       "      <th>501</th>\n",
       "      <td>2020</td>\n",
       "      <td>1615.5</td>\n",
       "      <td>2020-10-30</td>\n",
       "      <td>0.5</td>\n",
       "      <td>1.005</td>\n",
       "    </tr>\n",
       "    <tr>\n",
       "      <th>502</th>\n",
       "      <td>2020</td>\n",
       "      <td>1473.5</td>\n",
       "      <td>2020-11-30</td>\n",
       "      <td>0.5</td>\n",
       "      <td>1.005</td>\n",
       "    </tr>\n",
       "    <tr>\n",
       "      <th>503</th>\n",
       "      <td>2020</td>\n",
       "      <td>1542.7</td>\n",
       "      <td>2020-12-31</td>\n",
       "      <td>0.5</td>\n",
       "      <td>1.005</td>\n",
       "    </tr>\n",
       "  </tbody>\n",
       "</table>\n",
       "</div>"
      ],
      "text/plain": [
       "     year  gold in eur per oz       date inflation for this year in %  \\\n",
       "499  2020              1636.7 2020-08-31                          0.5   \n",
       "500  2020              1609.1 2020-09-30                          0.5   \n",
       "501  2020              1615.5 2020-10-30                          0.5   \n",
       "502  2020              1473.5 2020-11-30                          0.5   \n",
       "503  2020              1542.7 2020-12-31                          0.5   \n",
       "\n",
       "    Inflation Faktor  \n",
       "499            1.005  \n",
       "500            1.005  \n",
       "501            1.005  \n",
       "502            1.005  \n",
       "503            1.005  "
      ]
     },
     "execution_count": 10,
     "metadata": {},
     "output_type": "execute_result"
    }
   ],
   "source": [
    "df_new.tail()"
   ]
  },
  {
   "cell_type": "code",
   "execution_count": 11,
   "metadata": {},
   "outputs": [],
   "source": [
    "years=list(set(df_new['year'].values))"
   ]
  },
  {
   "cell_type": "code",
   "execution_count": 12,
   "metadata": {},
   "outputs": [],
   "source": [
    "df_new['month']=df_new['date'].dt.month"
   ]
  },
  {
   "cell_type": "code",
   "execution_count": 13,
   "metadata": {},
   "outputs": [],
   "source": [
    "df_test=df_new[df_new['month']==12]"
   ]
  },
  {
   "cell_type": "code",
   "execution_count": 14,
   "metadata": {},
   "outputs": [],
   "source": [
    "df_test = df_test[['year','gold in eur per oz','date','Inflation Faktor']].reset_index()"
   ]
  },
  {
   "cell_type": "code",
   "execution_count": 15,
   "metadata": {},
   "outputs": [
    {
     "data": {
      "text/html": [
       "<div>\n",
       "<style scoped>\n",
       "    .dataframe tbody tr th:only-of-type {\n",
       "        vertical-align: middle;\n",
       "    }\n",
       "\n",
       "    .dataframe tbody tr th {\n",
       "        vertical-align: top;\n",
       "    }\n",
       "\n",
       "    .dataframe thead th {\n",
       "        text-align: right;\n",
       "    }\n",
       "</style>\n",
       "<table border=\"1\" class=\"dataframe\">\n",
       "  <thead>\n",
       "    <tr style=\"text-align: right;\">\n",
       "      <th></th>\n",
       "      <th>index</th>\n",
       "      <th>year</th>\n",
       "      <th>gold in eur per oz</th>\n",
       "      <th>date</th>\n",
       "      <th>Inflation Faktor</th>\n",
       "    </tr>\n",
       "  </thead>\n",
       "  <tbody>\n",
       "    <tr>\n",
       "      <th>37</th>\n",
       "      <td>455</td>\n",
       "      <td>2016</td>\n",
       "      <td>1086.4</td>\n",
       "      <td>2016-12-30</td>\n",
       "      <td>1.005</td>\n",
       "    </tr>\n",
       "    <tr>\n",
       "      <th>38</th>\n",
       "      <td>467</td>\n",
       "      <td>2017</td>\n",
       "      <td>1075.1</td>\n",
       "      <td>2017-12-29</td>\n",
       "      <td>1.015</td>\n",
       "    </tr>\n",
       "    <tr>\n",
       "      <th>39</th>\n",
       "      <td>479</td>\n",
       "      <td>2018</td>\n",
       "      <td>1118.8</td>\n",
       "      <td>2018-12-31</td>\n",
       "      <td>1.017</td>\n",
       "    </tr>\n",
       "    <tr>\n",
       "      <th>40</th>\n",
       "      <td>491</td>\n",
       "      <td>2019</td>\n",
       "      <td>1349.4</td>\n",
       "      <td>2019-12-31</td>\n",
       "      <td>1.014</td>\n",
       "    </tr>\n",
       "    <tr>\n",
       "      <th>41</th>\n",
       "      <td>503</td>\n",
       "      <td>2020</td>\n",
       "      <td>1542.7</td>\n",
       "      <td>2020-12-31</td>\n",
       "      <td>1.005</td>\n",
       "    </tr>\n",
       "  </tbody>\n",
       "</table>\n",
       "</div>"
      ],
      "text/plain": [
       "    index  year  gold in eur per oz       date Inflation Faktor\n",
       "37    455  2016              1086.4 2016-12-30            1.005\n",
       "38    467  2017              1075.1 2017-12-29            1.015\n",
       "39    479  2018              1118.8 2018-12-31            1.017\n",
       "40    491  2019              1349.4 2019-12-31            1.014\n",
       "41    503  2020              1542.7 2020-12-31            1.005"
      ]
     },
     "execution_count": 15,
     "metadata": {},
     "output_type": "execute_result"
    }
   ],
   "source": [
    "df_test.tail()"
   ]
  },
  {
   "cell_type": "code",
   "execution_count": null,
   "metadata": {},
   "outputs": [],
   "source": []
  },
  {
   "cell_type": "markdown",
   "metadata": {},
   "source": [
    "Entering two more years of data manually:"
   ]
  },
  {
   "cell_type": "code",
   "execution_count": 16,
   "metadata": {},
   "outputs": [],
   "source": [
    "### Building an array with two more years of gold and inflation data:\n",
    "array = np.array([[333,2021,1606.1,'2021-12-31',1.07],[333,2022,1699.1,'2022-12-30',1.092]])\n",
    "### Converting array to df:\n",
    "df_erg = pd.DataFrame(array,columns=['index','year','gold in eur per oz','date','Inflation Faktor'])\n",
    "### Changing data type:\n",
    "df_erg[['gold in eur per oz','Inflation Faktor']]=df_erg[['gold in eur per oz','Inflation Faktor']].astype('float')"
   ]
  },
  {
   "cell_type": "code",
   "execution_count": 17,
   "metadata": {},
   "outputs": [],
   "source": [
    "### Merging the two DataFrames, i.e. entering two more years of data:\n",
    "df=pd.concat([df_test,df_erg])\n",
    "df=df.reset_index()\n",
    "df=df.drop(columns=['level_0','index'])\n",
    "df_test=df"
   ]
  },
  {
   "cell_type": "code",
   "execution_count": null,
   "metadata": {},
   "outputs": [],
   "source": []
  },
  {
   "cell_type": "markdown",
   "metadata": {},
   "source": [
    "Filling a list with inflation factors in order to multiply them easily, to calculate total inflation for several years:"
   ]
  },
  {
   "cell_type": "code",
   "execution_count": 18,
   "metadata": {},
   "outputs": [],
   "source": [
    "### Calculating the inflation factor by multiplying the entries of the dataframe:\n",
    "\n",
    "factor_list = []\n",
    "for i in range(len(df_test[['Inflation Faktor']])):\n",
    "    factor_list.append(df_test[['Inflation Faktor']].iloc[43-i:44-i])\n",
    "\n",
    "\n",
    "list2=[]\n",
    "for i in range(len(factor_list)+1):\n",
    "    list2.append(factor_list[0:i])\n",
    "    \n",
    "    \n",
    "list3=[]\n",
    "for i in range(1,len(list2)):\n",
    "    list3.append((2023-i,round(np.prod(list2[i]),3)))\n",
    "    \n",
    "    \n",
    "    \n",
    "    \n",
    "df_long_fac = pd.DataFrame(list3)\n",
    "\n",
    "df_long_fac = pd.DataFrame({'year': df_long_fac[0], 'inflation factor from given year to 2022': df_long_fac[1]})"
   ]
  },
  {
   "cell_type": "code",
   "execution_count": 19,
   "metadata": {},
   "outputs": [
    {
     "data": {
      "text/html": [
       "<div>\n",
       "<style scoped>\n",
       "    .dataframe tbody tr th:only-of-type {\n",
       "        vertical-align: middle;\n",
       "    }\n",
       "\n",
       "    .dataframe tbody tr th {\n",
       "        vertical-align: top;\n",
       "    }\n",
       "\n",
       "    .dataframe thead th {\n",
       "        text-align: right;\n",
       "    }\n",
       "</style>\n",
       "<table border=\"1\" class=\"dataframe\">\n",
       "  <thead>\n",
       "    <tr style=\"text-align: right;\">\n",
       "      <th></th>\n",
       "      <th>year</th>\n",
       "      <th>gold in eur per oz</th>\n",
       "      <th>date</th>\n",
       "      <th>Inflation Faktor</th>\n",
       "    </tr>\n",
       "  </thead>\n",
       "  <tbody>\n",
       "    <tr>\n",
       "      <th>39</th>\n",
       "      <td>2018</td>\n",
       "      <td>1118.8</td>\n",
       "      <td>2018-12-31 00:00:00</td>\n",
       "      <td>1.017</td>\n",
       "    </tr>\n",
       "    <tr>\n",
       "      <th>40</th>\n",
       "      <td>2019</td>\n",
       "      <td>1349.4</td>\n",
       "      <td>2019-12-31 00:00:00</td>\n",
       "      <td>1.014</td>\n",
       "    </tr>\n",
       "    <tr>\n",
       "      <th>41</th>\n",
       "      <td>2020</td>\n",
       "      <td>1542.7</td>\n",
       "      <td>2020-12-31 00:00:00</td>\n",
       "      <td>1.005</td>\n",
       "    </tr>\n",
       "    <tr>\n",
       "      <th>42</th>\n",
       "      <td>2021</td>\n",
       "      <td>1606.1</td>\n",
       "      <td>2021-12-31</td>\n",
       "      <td>1.07</td>\n",
       "    </tr>\n",
       "    <tr>\n",
       "      <th>43</th>\n",
       "      <td>2022</td>\n",
       "      <td>1699.1</td>\n",
       "      <td>2022-12-30</td>\n",
       "      <td>1.092</td>\n",
       "    </tr>\n",
       "  </tbody>\n",
       "</table>\n",
       "</div>"
      ],
      "text/plain": [
       "    year  gold in eur per oz                 date Inflation Faktor\n",
       "39  2018              1118.8  2018-12-31 00:00:00            1.017\n",
       "40  2019              1349.4  2019-12-31 00:00:00            1.014\n",
       "41  2020              1542.7  2020-12-31 00:00:00            1.005\n",
       "42  2021              1606.1           2021-12-31             1.07\n",
       "43  2022              1699.1           2022-12-30            1.092"
      ]
     },
     "execution_count": 19,
     "metadata": {},
     "output_type": "execute_result"
    }
   ],
   "source": [
    "df_test.tail()"
   ]
  },
  {
   "cell_type": "code",
   "execution_count": 20,
   "metadata": {},
   "outputs": [],
   "source": [
    "### DataFrame manipulation:\n",
    "df['date']=df['date'].astype('str')\n",
    "df['date']=df['date'].str.slice(0,10)\n",
    "df_test['year']=df_test['year'].astype('int')"
   ]
  },
  {
   "cell_type": "code",
   "execution_count": null,
   "metadata": {},
   "outputs": [],
   "source": []
  },
  {
   "cell_type": "markdown",
   "metadata": {},
   "source": [
    "Merging DataFrames and manipuating final DataFrame:"
   ]
  },
  {
   "cell_type": "code",
   "execution_count": 21,
   "metadata": {},
   "outputs": [],
   "source": [
    "### Merging two DataFrames:\n",
    "df_new2 = pd.merge(df_long_fac, df_test, on = 'year')"
   ]
  },
  {
   "cell_type": "code",
   "execution_count": 22,
   "metadata": {},
   "outputs": [],
   "source": [
    "### Rearranging columns in DataFrame:\n",
    "df_new2 = df_new2[['year','date','inflation factor from given year to 2022','gold in eur per oz','Inflation Faktor']]"
   ]
  },
  {
   "cell_type": "code",
   "execution_count": 23,
   "metadata": {},
   "outputs": [
    {
     "data": {
      "text/html": [
       "<div>\n",
       "<style scoped>\n",
       "    .dataframe tbody tr th:only-of-type {\n",
       "        vertical-align: middle;\n",
       "    }\n",
       "\n",
       "    .dataframe tbody tr th {\n",
       "        vertical-align: top;\n",
       "    }\n",
       "\n",
       "    .dataframe thead th {\n",
       "        text-align: right;\n",
       "    }\n",
       "</style>\n",
       "<table border=\"1\" class=\"dataframe\">\n",
       "  <thead>\n",
       "    <tr style=\"text-align: right;\">\n",
       "      <th></th>\n",
       "      <th>year</th>\n",
       "      <th>date</th>\n",
       "      <th>inflation factor from given year to 2022</th>\n",
       "      <th>gold in eur per oz</th>\n",
       "      <th>Inflation Faktor</th>\n",
       "    </tr>\n",
       "  </thead>\n",
       "  <tbody>\n",
       "    <tr>\n",
       "      <th>0</th>\n",
       "      <td>2022</td>\n",
       "      <td>2022-12-30</td>\n",
       "      <td>1.092</td>\n",
       "      <td>1699.1</td>\n",
       "      <td>1.092</td>\n",
       "    </tr>\n",
       "    <tr>\n",
       "      <th>1</th>\n",
       "      <td>2021</td>\n",
       "      <td>2021-12-31</td>\n",
       "      <td>1.168</td>\n",
       "      <td>1606.1</td>\n",
       "      <td>1.07</td>\n",
       "    </tr>\n",
       "    <tr>\n",
       "      <th>2</th>\n",
       "      <td>2020</td>\n",
       "      <td>2020-12-31</td>\n",
       "      <td>1.174</td>\n",
       "      <td>1542.7</td>\n",
       "      <td>1.005</td>\n",
       "    </tr>\n",
       "    <tr>\n",
       "      <th>3</th>\n",
       "      <td>2019</td>\n",
       "      <td>2019-12-31</td>\n",
       "      <td>1.191</td>\n",
       "      <td>1349.4</td>\n",
       "      <td>1.014</td>\n",
       "    </tr>\n",
       "    <tr>\n",
       "      <th>4</th>\n",
       "      <td>2018</td>\n",
       "      <td>2018-12-31</td>\n",
       "      <td>1.211</td>\n",
       "      <td>1118.8</td>\n",
       "      <td>1.017</td>\n",
       "    </tr>\n",
       "  </tbody>\n",
       "</table>\n",
       "</div>"
      ],
      "text/plain": [
       "   year        date  inflation factor from given year to 2022  \\\n",
       "0  2022  2022-12-30                                     1.092   \n",
       "1  2021  2021-12-31                                     1.168   \n",
       "2  2020  2020-12-31                                     1.174   \n",
       "3  2019  2019-12-31                                     1.191   \n",
       "4  2018  2018-12-31                                     1.211   \n",
       "\n",
       "   gold in eur per oz Inflation Faktor  \n",
       "0              1699.1            1.092  \n",
       "1              1606.1             1.07  \n",
       "2              1542.7            1.005  \n",
       "3              1349.4            1.014  \n",
       "4              1118.8            1.017  "
      ]
     },
     "execution_count": 23,
     "metadata": {},
     "output_type": "execute_result"
    }
   ],
   "source": [
    "df_new2.head()"
   ]
  },
  {
   "cell_type": "code",
   "execution_count": 24,
   "metadata": {},
   "outputs": [],
   "source": [
    "### Since we are interested for the view of 2020 we normalize inflation factors and reduce it for inflation in 2022:\n",
    "df_new2['inflation factor from given year to 2022']=df_new2['inflation factor from given year to 2022']/1.092"
   ]
  },
  {
   "cell_type": "code",
   "execution_count": 25,
   "metadata": {},
   "outputs": [],
   "source": [
    "### Calculating the historic gold price in todays money:\n",
    "df_new2['gold price corrected for inflation']=df_new2['inflation factor from given year to 2022']*df_new2['gold in eur per oz']\n",
    "df_new2['gold price corrected for inflation']=round(df_new2['gold price corrected for inflation'],2)"
   ]
  },
  {
   "cell_type": "code",
   "execution_count": 26,
   "metadata": {},
   "outputs": [
    {
     "data": {
      "text/html": [
       "<div>\n",
       "<style scoped>\n",
       "    .dataframe tbody tr th:only-of-type {\n",
       "        vertical-align: middle;\n",
       "    }\n",
       "\n",
       "    .dataframe tbody tr th {\n",
       "        vertical-align: top;\n",
       "    }\n",
       "\n",
       "    .dataframe thead th {\n",
       "        text-align: right;\n",
       "    }\n",
       "</style>\n",
       "<table border=\"1\" class=\"dataframe\">\n",
       "  <thead>\n",
       "    <tr style=\"text-align: right;\">\n",
       "      <th></th>\n",
       "      <th>year</th>\n",
       "      <th>date</th>\n",
       "      <th>inflation factor from given year to 2022</th>\n",
       "      <th>gold in eur per oz</th>\n",
       "      <th>Inflation Faktor</th>\n",
       "      <th>gold price corrected for inflation</th>\n",
       "    </tr>\n",
       "  </thead>\n",
       "  <tbody>\n",
       "    <tr>\n",
       "      <th>0</th>\n",
       "      <td>2022</td>\n",
       "      <td>2022-12-30</td>\n",
       "      <td>1.000000</td>\n",
       "      <td>1699.1</td>\n",
       "      <td>1.092</td>\n",
       "      <td>1699.10</td>\n",
       "    </tr>\n",
       "    <tr>\n",
       "      <th>1</th>\n",
       "      <td>2021</td>\n",
       "      <td>2021-12-31</td>\n",
       "      <td>1.069597</td>\n",
       "      <td>1606.1</td>\n",
       "      <td>1.07</td>\n",
       "      <td>1717.88</td>\n",
       "    </tr>\n",
       "    <tr>\n",
       "      <th>2</th>\n",
       "      <td>2020</td>\n",
       "      <td>2020-12-31</td>\n",
       "      <td>1.075092</td>\n",
       "      <td>1542.7</td>\n",
       "      <td>1.005</td>\n",
       "      <td>1658.54</td>\n",
       "    </tr>\n",
       "    <tr>\n",
       "      <th>3</th>\n",
       "      <td>2019</td>\n",
       "      <td>2019-12-31</td>\n",
       "      <td>1.090659</td>\n",
       "      <td>1349.4</td>\n",
       "      <td>1.014</td>\n",
       "      <td>1471.74</td>\n",
       "    </tr>\n",
       "    <tr>\n",
       "      <th>4</th>\n",
       "      <td>2018</td>\n",
       "      <td>2018-12-31</td>\n",
       "      <td>1.108974</td>\n",
       "      <td>1118.8</td>\n",
       "      <td>1.017</td>\n",
       "      <td>1240.72</td>\n",
       "    </tr>\n",
       "  </tbody>\n",
       "</table>\n",
       "</div>"
      ],
      "text/plain": [
       "   year        date  inflation factor from given year to 2022  \\\n",
       "0  2022  2022-12-30                                  1.000000   \n",
       "1  2021  2021-12-31                                  1.069597   \n",
       "2  2020  2020-12-31                                  1.075092   \n",
       "3  2019  2019-12-31                                  1.090659   \n",
       "4  2018  2018-12-31                                  1.108974   \n",
       "\n",
       "   gold in eur per oz Inflation Faktor  gold price corrected for inflation  \n",
       "0              1699.1            1.092                             1699.10  \n",
       "1              1606.1             1.07                             1717.88  \n",
       "2              1542.7            1.005                             1658.54  \n",
       "3              1349.4            1.014                             1471.74  \n",
       "4              1118.8            1.017                             1240.72  "
      ]
     },
     "execution_count": 26,
     "metadata": {},
     "output_type": "execute_result"
    }
   ],
   "source": [
    "df_new2.head()"
   ]
  },
  {
   "cell_type": "code",
   "execution_count": null,
   "metadata": {},
   "outputs": [],
   "source": []
  },
  {
   "cell_type": "markdown",
   "metadata": {},
   "source": [
    "Plotting gold price vs inflation corrected price:"
   ]
  },
  {
   "cell_type": "code",
   "execution_count": 27,
   "metadata": {},
   "outputs": [
    {
     "data": {
      "text/plain": [
       "<matplotlib.legend.Legend at 0x1c9a6701160>"
      ]
     },
     "execution_count": 27,
     "metadata": {},
     "output_type": "execute_result"
    },
    {
     "data": {
      "image/png": "[encoded data removed]",
      "text/plain": [
       "<Figure size 720x360 with 1 Axes>"
      ]
     },
     "metadata": {
      "needs_background": "light"
     },
     "output_type": "display_data"
    }
   ],
   "source": [
    "### Plotting gold price vs inflation corrected price:\n",
    "plt.figure(figsize=(10,5))\n",
    "plt.plot(df_new2['year'],df_new2['gold price corrected for inflation'],'b',label='gold price corrected for official inflation')\n",
    "plt.plot(df_new2['year'],df_new2['gold in eur per oz'],'r',label='gold in eur per oz')\n",
    "plt.xlabel('year')\n",
    "plt.ylabel('price in eur')\n",
    "plt.legend()"
   ]
  },
  {
   "cell_type": "code",
   "execution_count": 28,
   "metadata": {},
   "outputs": [
    {
     "data": {
      "text/html": [
       "<div>\n",
       "<style scoped>\n",
       "    .dataframe tbody tr th:only-of-type {\n",
       "        vertical-align: middle;\n",
       "    }\n",
       "\n",
       "    .dataframe tbody tr th {\n",
       "        vertical-align: top;\n",
       "    }\n",
       "\n",
       "    .dataframe thead th {\n",
       "        text-align: right;\n",
       "    }\n",
       "</style>\n",
       "<table border=\"1\" class=\"dataframe\">\n",
       "  <thead>\n",
       "    <tr style=\"text-align: right;\">\n",
       "      <th></th>\n",
       "      <th>year</th>\n",
       "      <th>date</th>\n",
       "      <th>inflation factor from given year to 2022</th>\n",
       "      <th>gold in eur per oz</th>\n",
       "      <th>Inflation Faktor</th>\n",
       "      <th>gold price corrected for inflation</th>\n",
       "    </tr>\n",
       "  </thead>\n",
       "  <tbody>\n",
       "    <tr>\n",
       "      <th>0</th>\n",
       "      <td>2022</td>\n",
       "      <td>2022-12-30</td>\n",
       "      <td>1.000000</td>\n",
       "      <td>1699.1</td>\n",
       "      <td>1.092</td>\n",
       "      <td>1699.10</td>\n",
       "    </tr>\n",
       "    <tr>\n",
       "      <th>1</th>\n",
       "      <td>2021</td>\n",
       "      <td>2021-12-31</td>\n",
       "      <td>1.069597</td>\n",
       "      <td>1606.1</td>\n",
       "      <td>1.07</td>\n",
       "      <td>1717.88</td>\n",
       "    </tr>\n",
       "    <tr>\n",
       "      <th>2</th>\n",
       "      <td>2020</td>\n",
       "      <td>2020-12-31</td>\n",
       "      <td>1.075092</td>\n",
       "      <td>1542.7</td>\n",
       "      <td>1.005</td>\n",
       "      <td>1658.54</td>\n",
       "    </tr>\n",
       "    <tr>\n",
       "      <th>3</th>\n",
       "      <td>2019</td>\n",
       "      <td>2019-12-31</td>\n",
       "      <td>1.090659</td>\n",
       "      <td>1349.4</td>\n",
       "      <td>1.014</td>\n",
       "      <td>1471.74</td>\n",
       "    </tr>\n",
       "    <tr>\n",
       "      <th>4</th>\n",
       "      <td>2018</td>\n",
       "      <td>2018-12-31</td>\n",
       "      <td>1.108974</td>\n",
       "      <td>1118.8</td>\n",
       "      <td>1.017</td>\n",
       "      <td>1240.72</td>\n",
       "    </tr>\n",
       "  </tbody>\n",
       "</table>\n",
       "</div>"
      ],
      "text/plain": [
       "   year        date  inflation factor from given year to 2022  \\\n",
       "0  2022  2022-12-30                                  1.000000   \n",
       "1  2021  2021-12-31                                  1.069597   \n",
       "2  2020  2020-12-31                                  1.075092   \n",
       "3  2019  2019-12-31                                  1.090659   \n",
       "4  2018  2018-12-31                                  1.108974   \n",
       "\n",
       "   gold in eur per oz Inflation Faktor  gold price corrected for inflation  \n",
       "0              1699.1            1.092                             1699.10  \n",
       "1              1606.1             1.07                             1717.88  \n",
       "2              1542.7            1.005                             1658.54  \n",
       "3              1349.4            1.014                             1471.74  \n",
       "4              1118.8            1.017                             1240.72  "
      ]
     },
     "execution_count": 28,
     "metadata": {},
     "output_type": "execute_result"
    }
   ],
   "source": [
    "df_new2.head()"
   ]
  },
  {
   "cell_type": "code",
   "execution_count": null,
   "metadata": {},
   "outputs": [],
   "source": []
  },
  {
   "cell_type": "markdown",
   "metadata": {},
   "source": [
    "Adding 3% of \"hidden\" inflation since 1990:"
   ]
  },
  {
   "cell_type": "code",
   "execution_count": 29,
   "metadata": {},
   "outputs": [
    {
     "name": "stderr",
     "output_type": "stream",
     "text": [
      "C:\\Users\\49174\\anaconda3\\lib\\site-packages\\pandas\\core\\indexing.py:670: SettingWithCopyWarning: \n",
      "A value is trying to be set on a copy of a slice from a DataFrame\n",
      "\n",
      "See the caveats in the documentation: https://pandas.pydata.org/pandas-docs/stable/user_guide/indexing.html#returning-a-view-versus-a-copy\n",
      "  iloc._setitem_with_indexer(indexer, value)\n"
     ]
    }
   ],
   "source": [
    "### Adding 3% of \"hidden\" inflation for every year since 1990:\n",
    "df_new2['unofficial inflation']=df_new2['Inflation Faktor']\n",
    "\n",
    "for i in range(len(df_new2)):\n",
    "    if df_new2['year'].iloc[i]<1990:\n",
    "        df_new2['unofficial inflation'].iloc[i]=df_new2['Inflation Faktor'].iloc[i]\n",
    "    else:\n",
    "        df_new2['unofficial inflation'].iloc[i]=df_new2['Inflation Faktor'].iloc[i]+0.03"
   ]
  },
  {
   "cell_type": "code",
   "execution_count": 30,
   "metadata": {},
   "outputs": [
    {
     "data": {
      "text/html": [
       "<div>\n",
       "<style scoped>\n",
       "    .dataframe tbody tr th:only-of-type {\n",
       "        vertical-align: middle;\n",
       "    }\n",
       "\n",
       "    .dataframe tbody tr th {\n",
       "        vertical-align: top;\n",
       "    }\n",
       "\n",
       "    .dataframe thead th {\n",
       "        text-align: right;\n",
       "    }\n",
       "</style>\n",
       "<table border=\"1\" class=\"dataframe\">\n",
       "  <thead>\n",
       "    <tr style=\"text-align: right;\">\n",
       "      <th></th>\n",
       "      <th>year</th>\n",
       "      <th>date</th>\n",
       "      <th>inflation factor from given year to 2022</th>\n",
       "      <th>gold in eur per oz</th>\n",
       "      <th>Inflation Faktor</th>\n",
       "      <th>gold price corrected for inflation</th>\n",
       "      <th>unofficial inflation</th>\n",
       "    </tr>\n",
       "  </thead>\n",
       "  <tbody>\n",
       "    <tr>\n",
       "      <th>39</th>\n",
       "      <td>1983</td>\n",
       "      <td>1983-12-30</td>\n",
       "      <td>2.074176</td>\n",
       "      <td>432.0</td>\n",
       "      <td>1.033</td>\n",
       "      <td>896.04</td>\n",
       "      <td>1.033</td>\n",
       "    </tr>\n",
       "    <tr>\n",
       "      <th>40</th>\n",
       "      <td>1982</td>\n",
       "      <td>1982-12-31</td>\n",
       "      <td>2.182234</td>\n",
       "      <td>429.9</td>\n",
       "      <td>1.052</td>\n",
       "      <td>938.14</td>\n",
       "      <td>1.052</td>\n",
       "    </tr>\n",
       "    <tr>\n",
       "      <th>41</th>\n",
       "      <td>1981</td>\n",
       "      <td>1981-12-31</td>\n",
       "      <td>2.319597</td>\n",
       "      <td>327.5</td>\n",
       "      <td>1.063</td>\n",
       "      <td>759.67</td>\n",
       "      <td>1.063</td>\n",
       "    </tr>\n",
       "    <tr>\n",
       "      <th>42</th>\n",
       "      <td>1980</td>\n",
       "      <td>1980-12-31</td>\n",
       "      <td>2.445055</td>\n",
       "      <td>392.4</td>\n",
       "      <td>1.054</td>\n",
       "      <td>959.44</td>\n",
       "      <td>1.054</td>\n",
       "    </tr>\n",
       "    <tr>\n",
       "      <th>43</th>\n",
       "      <td>1979</td>\n",
       "      <td>1979-12-31</td>\n",
       "      <td>2.542125</td>\n",
       "      <td>299.1</td>\n",
       "      <td>1.04</td>\n",
       "      <td>760.35</td>\n",
       "      <td>1.04</td>\n",
       "    </tr>\n",
       "  </tbody>\n",
       "</table>\n",
       "</div>"
      ],
      "text/plain": [
       "    year        date  inflation factor from given year to 2022  \\\n",
       "39  1983  1983-12-30                                  2.074176   \n",
       "40  1982  1982-12-31                                  2.182234   \n",
       "41  1981  1981-12-31                                  2.319597   \n",
       "42  1980  1980-12-31                                  2.445055   \n",
       "43  1979  1979-12-31                                  2.542125   \n",
       "\n",
       "    gold in eur per oz Inflation Faktor  gold price corrected for inflation  \\\n",
       "39               432.0            1.033                              896.04   \n",
       "40               429.9            1.052                              938.14   \n",
       "41               327.5            1.063                              759.67   \n",
       "42               392.4            1.054                              959.44   \n",
       "43               299.1             1.04                              760.35   \n",
       "\n",
       "   unofficial inflation  \n",
       "39                1.033  \n",
       "40                1.052  \n",
       "41                1.063  \n",
       "42                1.054  \n",
       "43                 1.04  "
      ]
     },
     "execution_count": 30,
     "metadata": {},
     "output_type": "execute_result"
    }
   ],
   "source": [
    "df_new2.tail()"
   ]
  },
  {
   "cell_type": "code",
   "execution_count": 31,
   "metadata": {},
   "outputs": [],
   "source": [
    "### Calculating the unofficial inflation factor for a given year until 2022 (same method as before):\n",
    "\n",
    "factor_list_new = []\n",
    "\n",
    "for i in range(len(df_new2[['unofficial inflation']])):\n",
    "    factor_list_new.append(df_new2[['unofficial inflation']].iloc[i:1+i])\n",
    "\n",
    "\n",
    "\n",
    "list2_new=[]\n",
    "\n",
    "for i in range(len(factor_list_new)+1):\n",
    "    list2_new.append(factor_list_new[0:i])\n",
    "\n",
    "    \n",
    "    \n",
    "    \n",
    "list3_new=[]\n",
    "\n",
    "for i in range(1,len(list2_new)):\n",
    "    list3_new.append((2023-i,round(np.prod(list2_new[i]),3)))\n",
    "    \n",
    "    \n",
    "    \n",
    "    \n",
    "df_long_fac_new = pd.DataFrame(list3_new)\n",
    "\n",
    "df_long_fac_new = pd.DataFrame({'year': df_long_fac_new[0], 'unofficial inflation factor from given year to 2022': df_long_fac_new[1]})"
   ]
  },
  {
   "cell_type": "code",
   "execution_count": 32,
   "metadata": {},
   "outputs": [],
   "source": [
    "### Merging two DataFrames:\n",
    "df_new3 = pd.merge(df_long_fac_new, df_new2, on = 'year')"
   ]
  },
  {
   "cell_type": "code",
   "execution_count": 33,
   "metadata": {},
   "outputs": [],
   "source": [
    "### Since we are interested for the view of 2020 we normalize inflation factors and reduce it for inflation in 2022:\n",
    "df_new3['unofficial inflation factor from given year to 2022']=df_new3['unofficial inflation factor from given year to 2022']/1.142"
   ]
  },
  {
   "cell_type": "code",
   "execution_count": 34,
   "metadata": {},
   "outputs": [],
   "source": [
    "### Calculating the historic gold price in todays money:\n",
    "df_new3['gold price corrected for unofficial inflation']=df_new3['unofficial inflation factor from given year to 2022']*df_new3['gold in eur per oz']\n",
    "df_new3['gold price corrected for unofficial inflation']=round(df_new3['gold price corrected for unofficial inflation'],2)"
   ]
  },
  {
   "cell_type": "code",
   "execution_count": null,
   "metadata": {},
   "outputs": [],
   "source": []
  },
  {
   "cell_type": "markdown",
   "metadata": {},
   "source": [
    "Plotting the different gold prices:"
   ]
  },
  {
   "cell_type": "code",
   "execution_count": 42,
   "metadata": {},
   "outputs": [
    {
     "data": {
      "image/png": "[encoded data removed]",
      "text/plain": [
       "<Figure size 720x360 with 1 Axes>"
      ]
     },
     "metadata": {
      "needs_background": "light"
     },
     "output_type": "display_data"
    }
   ],
   "source": [
    "### Plotting the different prices for gold:\n",
    "plt.figure(figsize=(10,5))\n",
    "plt.plot(df_new3['year'],df_new3['gold price corrected for unofficial inflation'],'g',label='gold price corrected for unofficial inflation')\n",
    "plt.plot(df_new3['year'],df_new3['gold price corrected for inflation'],'b',label='gold price corrected for official inflation')\n",
    "plt.plot(df_new3['year'],df_new3['gold in eur per oz'],'r',label='gold in eur per oz')\n",
    "plt.xlabel('year')\n",
    "plt.ylabel('price in eur')\n",
    "plt.legend()\n",
    "\n",
    "plt.savefig('gold_price_corrected.png')"
   ]
  },
  {
   "cell_type": "code",
   "execution_count": 43,
   "metadata": {},
   "outputs": [
    {
     "data": {
      "image/png": "[encoded data removed]",
      "text/plain": [
       "<Figure size 720x360 with 1 Axes>"
      ]
     },
     "metadata": {
      "needs_background": "light"
     },
     "output_type": "display_data"
    }
   ],
   "source": [
    "### Plotting gold price corrected for unofficial inflation:\n",
    "plt.figure(figsize=(10,5))\n",
    "plt.plot(df_new3['year'],df_new3['gold price corrected for unofficial inflation'],'g',label='gold price corrected for unofficial inflation')\n",
    "plt.arrow(1980, 2600, 20, -1500, head_width = 1, width = 0.1)\n",
    "plt.annotate('Falling gold price',xy=(1990,2000),horizontalalignment='center',verticalalignment='center',rotation=321,fontsize=15)\n",
    "plt.arrow(2001, 1100, 21, 620, head_width = 1, width = 0.1)\n",
    "plt.annotate('Rising gold price',xy=(2010,1500),horizontalalignment='center',verticalalignment='center',rotation=18,fontsize=15)\n",
    "plt.xlabel('year')\n",
    "plt.ylabel('price in eur')\n",
    "plt.legend()\n",
    "\n",
    "plt.savefig('gold_price_unofficial_inf.png')"
   ]
  },
  {
   "cell_type": "code",
   "execution_count": null,
   "metadata": {},
   "outputs": [],
   "source": []
  },
  {
   "cell_type": "code",
   "execution_count": null,
   "metadata": {},
   "outputs": [],
   "source": []
  },
  {
   "cell_type": "code",
   "execution_count": null,
   "metadata": {},
   "outputs": [],
   "source": []
  },
  {
   "cell_type": "code",
   "execution_count": null,
   "metadata": {},
   "outputs": [],
   "source": []
  },
  {
   "cell_type": "code",
   "execution_count": null,
   "metadata": {},
   "outputs": [],
   "source": []
  }
 ],
 "metadata": {
  "kernelspec": {
   "display_name": "Python 3",
   "language": "python",
   "name": "python3"
  },
  "language_info": {
   "codemirror_mode": {
    "name": "ipython",
    "version": 3
   },
   "file_extension": ".py",
   "mimetype": "text/x-python",
   "name": "python",
   "nbconvert_exporter": "python",
   "pygments_lexer": "ipython3",
   "version": "3.8.5"
  }
 },
 "nbformat": 4,
 "nbformat_minor": 4
}
