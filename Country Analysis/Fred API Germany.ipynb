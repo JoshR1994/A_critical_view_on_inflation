{
 "cells": [
  {
   "cell_type": "code",
   "execution_count": 1,
   "metadata": {
    "scrolled": false
   },
   "outputs": [
    {
     "name": "stdout",
     "output_type": "stream",
     "text": [
      "Requirement already satisfied: fredapi in c:\\users\\49174\\anaconda3\\lib\\site-packages (0.5.1)\n",
      "Requirement already satisfied: pandas in c:\\users\\49174\\anaconda3\\lib\\site-packages (from fredapi) (1.1.3)\n",
      "Requirement already satisfied: pytz>=2017.2 in c:\\users\\49174\\anaconda3\\lib\\site-packages (from pandas->fredapi) (2020.1)\n",
      "Requirement already satisfied: python-dateutil>=2.7.3 in c:\\users\\49174\\anaconda3\\lib\\site-packages (from pandas->fredapi) (2.8.1)\n",
      "Requirement already satisfied: numpy>=1.15.4 in c:\\users\\49174\\anaconda3\\lib\\site-packages (from pandas->fredapi) (1.19.2)\n",
      "Requirement already satisfied: six>=1.5 in c:\\users\\49174\\anaconda3\\lib\\site-packages (from python-dateutil>=2.7.3->pandas->fredapi) (1.15.0)\n"
     ]
    }
   ],
   "source": [
    "!pip install fredapi"
   ]
  },
  {
   "cell_type": "code",
   "execution_count": 2,
   "metadata": {},
   "outputs": [],
   "source": [
    "from sklearn import linear_model"
   ]
  },
  {
   "cell_type": "code",
   "execution_count": 3,
   "metadata": {},
   "outputs": [],
   "source": [
    "import pandas as pd\n",
    "import matplotlib.pyplot as plt\n",
    "import numpy as np"
   ]
  },
  {
   "cell_type": "code",
   "execution_count": null,
   "metadata": {},
   "outputs": [],
   "source": []
  },
  {
   "cell_type": "code",
   "execution_count": 4,
   "metadata": {},
   "outputs": [],
   "source": [
    "import seaborn as sns"
   ]
  },
  {
   "cell_type": "code",
   "execution_count": 5,
   "metadata": {},
   "outputs": [],
   "source": [
    "from fredapi import Fred"
   ]
  },
  {
   "cell_type": "markdown",
   "metadata": {},
   "source": [
    "Using API to access FRED data:"
   ]
  },
  {
   "cell_type": "code",
   "execution_count": 6,
   "metadata": {},
   "outputs": [],
   "source": [
    "fred_key=\"b37c397744f2a08c1050255187b11116\""
   ]
  },
  {
   "cell_type": "code",
   "execution_count": 7,
   "metadata": {},
   "outputs": [],
   "source": [
    "fred = Fred(api_key=fred_key)"
   ]
  },
  {
   "cell_type": "markdown",
   "metadata": {},
   "source": [
    "Investigating FRED data:"
   ]
  },
  {
   "cell_type": "code",
   "execution_count": 8,
   "metadata": {},
   "outputs": [
    {
     "data": {
      "text/html": [
       "<div>\n",
       "<style scoped>\n",
       "    .dataframe tbody tr th:only-of-type {\n",
       "        vertical-align: middle;\n",
       "    }\n",
       "\n",
       "    .dataframe tbody tr th {\n",
       "        vertical-align: top;\n",
       "    }\n",
       "\n",
       "    .dataframe thead th {\n",
       "        text-align: right;\n",
       "    }\n",
       "</style>\n",
       "<table border=\"1\" class=\"dataframe\">\n",
       "  <thead>\n",
       "    <tr style=\"text-align: right;\">\n",
       "      <th></th>\n",
       "      <th>id</th>\n",
       "      <th>realtime_start</th>\n",
       "      <th>realtime_end</th>\n",
       "      <th>title</th>\n",
       "      <th>observation_start</th>\n",
       "      <th>observation_end</th>\n",
       "      <th>frequency</th>\n",
       "      <th>frequency_short</th>\n",
       "      <th>units</th>\n",
       "      <th>units_short</th>\n",
       "      <th>seasonal_adjustment</th>\n",
       "      <th>seasonal_adjustment_short</th>\n",
       "      <th>last_updated</th>\n",
       "      <th>popularity</th>\n",
       "      <th>notes</th>\n",
       "    </tr>\n",
       "    <tr>\n",
       "      <th>series id</th>\n",
       "      <th></th>\n",
       "      <th></th>\n",
       "      <th></th>\n",
       "      <th></th>\n",
       "      <th></th>\n",
       "      <th></th>\n",
       "      <th></th>\n",
       "      <th></th>\n",
       "      <th></th>\n",
       "      <th></th>\n",
       "      <th></th>\n",
       "      <th></th>\n",
       "      <th></th>\n",
       "      <th></th>\n",
       "      <th></th>\n",
       "    </tr>\n",
       "  </thead>\n",
       "  <tbody>\n",
       "    <tr>\n",
       "      <th>CLVMNACSCAB1GQDE</th>\n",
       "      <td>CLVMNACSCAB1GQDE</td>\n",
       "      <td>2024-09-27</td>\n",
       "      <td>2024-09-27</td>\n",
       "      <td>Real Gross Domestic Product for Germany</td>\n",
       "      <td>1991-01-01</td>\n",
       "      <td>2024-04-01</td>\n",
       "      <td>Quarterly</td>\n",
       "      <td>Q</td>\n",
       "      <td>Millions of Chained 2010 Euros</td>\n",
       "      <td>Mil. of Chn. 2010 Euros</td>\n",
       "      <td>Seasonally Adjusted</td>\n",
       "      <td>SA</td>\n",
       "      <td>2024-09-06 04:01:02-05:00</td>\n",
       "      <td>63</td>\n",
       "      <td>Eurostat unit ID: CLV10_MNAC Eurostat item ID:...</td>\n",
       "    </tr>\n",
       "    <tr>\n",
       "      <th>QDER628BIS</th>\n",
       "      <td>QDER628BIS</td>\n",
       "      <td>2024-09-27</td>\n",
       "      <td>2024-09-27</td>\n",
       "      <td>Real Residential Property Prices for Germany</td>\n",
       "      <td>1970-01-01</td>\n",
       "      <td>2024-01-01</td>\n",
       "      <td>Quarterly</td>\n",
       "      <td>Q</td>\n",
       "      <td>Index 2010=100</td>\n",
       "      <td>Index 2010=100</td>\n",
       "      <td>Not Seasonally Adjusted</td>\n",
       "      <td>NSA</td>\n",
       "      <td>2024-07-25 11:01:03-05:00</td>\n",
       "      <td>58</td>\n",
       "      <td>Source Code: Q:DE:R:628  Coverage includes all...</td>\n",
       "    </tr>\n",
       "  </tbody>\n",
       "</table>\n",
       "</div>"
      ],
      "text/plain": [
       "                                id realtime_start realtime_end  \\\n",
       "series id                                                        \n",
       "CLVMNACSCAB1GQDE  CLVMNACSCAB1GQDE     2024-09-27   2024-09-27   \n",
       "QDER628BIS              QDER628BIS     2024-09-27   2024-09-27   \n",
       "\n",
       "                                                         title  \\\n",
       "series id                                                        \n",
       "CLVMNACSCAB1GQDE       Real Gross Domestic Product for Germany   \n",
       "QDER628BIS        Real Residential Property Prices for Germany   \n",
       "\n",
       "                 observation_start observation_end  frequency frequency_short  \\\n",
       "series id                                                                       \n",
       "CLVMNACSCAB1GQDE        1991-01-01      2024-04-01  Quarterly               Q   \n",
       "QDER628BIS              1970-01-01      2024-01-01  Quarterly               Q   \n",
       "\n",
       "                                           units              units_short  \\\n",
       "series id                                                                   \n",
       "CLVMNACSCAB1GQDE  Millions of Chained 2010 Euros  Mil. of Chn. 2010 Euros   \n",
       "QDER628BIS                        Index 2010=100           Index 2010=100   \n",
       "\n",
       "                      seasonal_adjustment seasonal_adjustment_short  \\\n",
       "series id                                                             \n",
       "CLVMNACSCAB1GQDE      Seasonally Adjusted                        SA   \n",
       "QDER628BIS        Not Seasonally Adjusted                       NSA   \n",
       "\n",
       "                               last_updated popularity  \\\n",
       "series id                                                \n",
       "CLVMNACSCAB1GQDE  2024-09-06 04:01:02-05:00         63   \n",
       "QDER628BIS        2024-07-25 11:01:03-05:00         58   \n",
       "\n",
       "                                                              notes  \n",
       "series id                                                            \n",
       "CLVMNACSCAB1GQDE  Eurostat unit ID: CLV10_MNAC Eurostat item ID:...  \n",
       "QDER628BIS        Source Code: Q:DE:R:628  Coverage includes all...  "
      ]
     },
     "execution_count": 8,
     "metadata": {},
     "output_type": "execute_result"
    }
   ],
   "source": [
    "fred.search('Germany',order_by='popularity').head(2)"
   ]
  },
  {
   "cell_type": "code",
   "execution_count": 9,
   "metadata": {},
   "outputs": [
    {
     "data": {
      "image/png": "[encoded data removed]",
      "text/plain": [
       "<Figure size 432x288 with 1 Axes>"
      ]
     },
     "metadata": {
      "needs_background": "light"
     },
     "output_type": "display_data"
    },
    {
     "data": {
      "image/png": "[encoded data removed]",
      "text/plain": [
       "<Figure size 432x288 with 1 Axes>"
      ]
     },
     "metadata": {
      "needs_background": "light"
     },
     "output_type": "display_data"
    }
   ],
   "source": [
    "for n in fred.search('Iceland',order_by='popularity').head(2)['id']:\n",
    "    plt.plot(fred.get_series(series_id=n))\n",
    "    plt.title(label=(fred.search('Iceland',order_by='popularity').head(2)['title'].loc[n],fred.search('Iceland',order_by='popularity').head(2)['units_short'].loc[n]))\n",
    "    plt.show()"
   ]
  },
  {
   "cell_type": "markdown",
   "metadata": {},
   "source": [
    "Automate generating plots for country of interest:"
   ]
  },
  {
   "cell_type": "code",
   "execution_count": 10,
   "metadata": {},
   "outputs": [],
   "source": [
    "def generate_plots(country, no_plots):\n",
    "    for n in fred.search(country,order_by='popularity').head(no_plots)['id']:\n",
    "        plt.plot(fred.get_series(series_id=n))\n",
    "        plt.title(label=(fred.search(country,order_by='popularity').head(no_plots)['title'].loc[n],fred.search(country,order_by='popularity').head(no_plots)['units_short'].loc[n]))\n",
    "        plt.show()"
   ]
  },
  {
   "cell_type": "code",
   "execution_count": 11,
   "metadata": {},
   "outputs": [
    {
     "data": {
      "image/png": "[encoded data removed]",
      "text/plain": [
       "<Figure size 432x288 with 1 Axes>"
      ]
     },
     "metadata": {
      "needs_background": "light"
     },
     "output_type": "display_data"
    },
    {
     "data": {
      "image/png": "[encoded data removed]",
      "text/plain": [
       "<Figure size 432x288 with 1 Axes>"
      ]
     },
     "metadata": {
      "needs_background": "light"
     },
     "output_type": "display_data"
    },
    {
     "data": {
      "image/png": "[encoded data removed]",
      "text/plain": [
       "<Figure size 432x288 with 1 Axes>"
      ]
     },
     "metadata": {
      "needs_background": "light"
     },
     "output_type": "display_data"
    }
   ],
   "source": [
    "generate_plots('Germany',3)"
   ]
  },
  {
   "cell_type": "markdown",
   "metadata": {},
   "source": [
    "Create Dataframe of several data sets:"
   ]
  },
  {
   "cell_type": "code",
   "execution_count": 12,
   "metadata": {},
   "outputs": [
    {
     "data": {
      "text/html": [
       "<div>\n",
       "<style scoped>\n",
       "    .dataframe tbody tr th:only-of-type {\n",
       "        vertical-align: middle;\n",
       "    }\n",
       "\n",
       "    .dataframe tbody tr th {\n",
       "        vertical-align: top;\n",
       "    }\n",
       "\n",
       "    .dataframe thead th {\n",
       "        text-align: right;\n",
       "    }\n",
       "</style>\n",
       "<table border=\"1\" class=\"dataframe\">\n",
       "  <thead>\n",
       "    <tr style=\"text-align: right;\">\n",
       "      <th></th>\n",
       "      <th>id</th>\n",
       "      <th>realtime_start</th>\n",
       "      <th>realtime_end</th>\n",
       "      <th>title</th>\n",
       "      <th>observation_start</th>\n",
       "      <th>observation_end</th>\n",
       "      <th>frequency</th>\n",
       "      <th>frequency_short</th>\n",
       "      <th>units</th>\n",
       "      <th>units_short</th>\n",
       "      <th>seasonal_adjustment</th>\n",
       "      <th>seasonal_adjustment_short</th>\n",
       "      <th>last_updated</th>\n",
       "      <th>popularity</th>\n",
       "      <th>notes</th>\n",
       "    </tr>\n",
       "    <tr>\n",
       "      <th>series id</th>\n",
       "      <th></th>\n",
       "      <th></th>\n",
       "      <th></th>\n",
       "      <th></th>\n",
       "      <th></th>\n",
       "      <th></th>\n",
       "      <th></th>\n",
       "      <th></th>\n",
       "      <th></th>\n",
       "      <th></th>\n",
       "      <th></th>\n",
       "      <th></th>\n",
       "      <th></th>\n",
       "      <th></th>\n",
       "      <th></th>\n",
       "    </tr>\n",
       "  </thead>\n",
       "  <tbody>\n",
       "    <tr>\n",
       "      <th>CLVMNACSCAB1GQDE</th>\n",
       "      <td>CLVMNACSCAB1GQDE</td>\n",
       "      <td>2024-09-27</td>\n",
       "      <td>2024-09-27</td>\n",
       "      <td>Real Gross Domestic Product for Germany</td>\n",
       "      <td>1991-01-01</td>\n",
       "      <td>2024-04-01</td>\n",
       "      <td>Quarterly</td>\n",
       "      <td>Q</td>\n",
       "      <td>Millions of Chained 2010 Euros</td>\n",
       "      <td>Mil. of Chn. 2010 Euros</td>\n",
       "      <td>Seasonally Adjusted</td>\n",
       "      <td>SA</td>\n",
       "      <td>2024-09-06 04:01:02-05:00</td>\n",
       "      <td>63</td>\n",
       "      <td>Eurostat unit ID: CLV10_MNAC Eurostat item ID:...</td>\n",
       "    </tr>\n",
       "    <tr>\n",
       "      <th>QDER628BIS</th>\n",
       "      <td>QDER628BIS</td>\n",
       "      <td>2024-09-27</td>\n",
       "      <td>2024-09-27</td>\n",
       "      <td>Real Residential Property Prices for Germany</td>\n",
       "      <td>1970-01-01</td>\n",
       "      <td>2024-01-01</td>\n",
       "      <td>Quarterly</td>\n",
       "      <td>Q</td>\n",
       "      <td>Index 2010=100</td>\n",
       "      <td>Index 2010=100</td>\n",
       "      <td>Not Seasonally Adjusted</td>\n",
       "      <td>NSA</td>\n",
       "      <td>2024-07-25 11:01:03-05:00</td>\n",
       "      <td>58</td>\n",
       "      <td>Source Code: Q:DE:R:628  Coverage includes all...</td>\n",
       "    </tr>\n",
       "  </tbody>\n",
       "</table>\n",
       "</div>"
      ],
      "text/plain": [
       "                                id realtime_start realtime_end  \\\n",
       "series id                                                        \n",
       "CLVMNACSCAB1GQDE  CLVMNACSCAB1GQDE     2024-09-27   2024-09-27   \n",
       "QDER628BIS              QDER628BIS     2024-09-27   2024-09-27   \n",
       "\n",
       "                                                         title  \\\n",
       "series id                                                        \n",
       "CLVMNACSCAB1GQDE       Real Gross Domestic Product for Germany   \n",
       "QDER628BIS        Real Residential Property Prices for Germany   \n",
       "\n",
       "                 observation_start observation_end  frequency frequency_short  \\\n",
       "series id                                                                       \n",
       "CLVMNACSCAB1GQDE        1991-01-01      2024-04-01  Quarterly               Q   \n",
       "QDER628BIS              1970-01-01      2024-01-01  Quarterly               Q   \n",
       "\n",
       "                                           units              units_short  \\\n",
       "series id                                                                   \n",
       "CLVMNACSCAB1GQDE  Millions of Chained 2010 Euros  Mil. of Chn. 2010 Euros   \n",
       "QDER628BIS                        Index 2010=100           Index 2010=100   \n",
       "\n",
       "                      seasonal_adjustment seasonal_adjustment_short  \\\n",
       "series id                                                             \n",
       "CLVMNACSCAB1GQDE      Seasonally Adjusted                        SA   \n",
       "QDER628BIS        Not Seasonally Adjusted                       NSA   \n",
       "\n",
       "                               last_updated popularity  \\\n",
       "series id                                                \n",
       "CLVMNACSCAB1GQDE  2024-09-06 04:01:02-05:00         63   \n",
       "QDER628BIS        2024-07-25 11:01:03-05:00         58   \n",
       "\n",
       "                                                              notes  \n",
       "series id                                                            \n",
       "CLVMNACSCAB1GQDE  Eurostat unit ID: CLV10_MNAC Eurostat item ID:...  \n",
       "QDER628BIS        Source Code: Q:DE:R:628  Coverage includes all...  "
      ]
     },
     "execution_count": 12,
     "metadata": {},
     "output_type": "execute_result"
    }
   ],
   "source": [
    "fred.search('Germany',order_by='popularity').head(2)"
   ]
  },
  {
   "cell_type": "code",
   "execution_count": 13,
   "metadata": {},
   "outputs": [
    {
     "data": {
      "text/plain": [
       "1970-01-01    118.9990\n",
       "1970-04-01    123.2700\n",
       "1970-07-01    124.3391\n",
       "1970-10-01    124.7134\n",
       "1971-01-01    125.7255\n",
       "dtype: float64"
      ]
     },
     "execution_count": 13,
     "metadata": {},
     "output_type": "execute_result"
    }
   ],
   "source": [
    "fred.get_series(series_id='QDER628BIS').head()"
   ]
  },
  {
   "cell_type": "code",
   "execution_count": null,
   "metadata": {},
   "outputs": [],
   "source": []
  },
  {
   "cell_type": "code",
   "execution_count": 14,
   "metadata": {},
   "outputs": [],
   "source": [
    "df_data = pd.DataFrame()\n",
    "for x in range(10):\n",
    "    df_data[fred.search('Germany',order_by='popularity')['title'].iloc[x]] = fred.get_series(series_id=fred.search('Germany',order_by='popularity')['id'].iloc[x])   "
   ]
  },
  {
   "cell_type": "code",
   "execution_count": 15,
   "metadata": {},
   "outputs": [
    {
     "data": {
      "text/html": [
       "<div>\n",
       "<style scoped>\n",
       "    .dataframe tbody tr th:only-of-type {\n",
       "        vertical-align: middle;\n",
       "    }\n",
       "\n",
       "    .dataframe tbody tr th {\n",
       "        vertical-align: top;\n",
       "    }\n",
       "\n",
       "    .dataframe thead th {\n",
       "        text-align: right;\n",
       "    }\n",
       "</style>\n",
       "<table border=\"1\" class=\"dataframe\">\n",
       "  <thead>\n",
       "    <tr style=\"text-align: right;\">\n",
       "      <th></th>\n",
       "      <th>Real Gross Domestic Product for Germany</th>\n",
       "      <th>Real Residential Property Prices for Germany</th>\n",
       "      <th>Interest Rates: Long-Term Government Bond Yields: 10-Year: Main (Including Benchmark) for Germany</th>\n",
       "      <th>Global Economic Policy Uncertainty Index: Current Price Adjusted GDP</th>\n",
       "      <th>Inflation, consumer prices for Germany</th>\n",
       "      <th>Gross Domestic Product for Germany</th>\n",
       "      <th>Consumer Price Indices (CPIs, HICPs), COICOP 1999: Consumer Price Index: Total for Germany</th>\n",
       "      <th>Interest Rates: 3-Month or 90-Day Rates and Yields: Interbank Rates: Total for Germany</th>\n",
       "      <th>Gross Domestic Product for European Union (27 Countries from 2020)</th>\n",
       "    </tr>\n",
       "  </thead>\n",
       "  <tbody>\n",
       "    <tr>\n",
       "      <th>1991-01-01</th>\n",
       "      <td>517733.8</td>\n",
       "      <td>129.6900</td>\n",
       "      <td>8.9275</td>\n",
       "      <td>NaN</td>\n",
       "      <td>4.047033</td>\n",
       "      <td>389789.0</td>\n",
       "      <td>63.99836</td>\n",
       "      <td>9.35</td>\n",
       "      <td>NaN</td>\n",
       "    </tr>\n",
       "    <tr>\n",
       "      <th>1991-04-01</th>\n",
       "      <td>515466.2</td>\n",
       "      <td>131.2034</td>\n",
       "      <td>8.3575</td>\n",
       "      <td>NaN</td>\n",
       "      <td>NaN</td>\n",
       "      <td>396859.0</td>\n",
       "      <td>64.55811</td>\n",
       "      <td>9.18</td>\n",
       "      <td>NaN</td>\n",
       "    </tr>\n",
       "    <tr>\n",
       "      <th>1991-07-01</th>\n",
       "      <td>514515.3</td>\n",
       "      <td>130.2082</td>\n",
       "      <td>8.6325</td>\n",
       "      <td>NaN</td>\n",
       "      <td>NaN</td>\n",
       "      <td>397814.0</td>\n",
       "      <td>65.86420</td>\n",
       "      <td>9.15</td>\n",
       "      <td>NaN</td>\n",
       "    </tr>\n",
       "    <tr>\n",
       "      <th>1991-10-01</th>\n",
       "      <td>521756.9</td>\n",
       "      <td>129.0285</td>\n",
       "      <td>8.3475</td>\n",
       "      <td>NaN</td>\n",
       "      <td>NaN</td>\n",
       "      <td>412335.0</td>\n",
       "      <td>66.89041</td>\n",
       "      <td>9.38</td>\n",
       "      <td>NaN</td>\n",
       "    </tr>\n",
       "    <tr>\n",
       "      <th>1992-01-01</th>\n",
       "      <td>529126.3</td>\n",
       "      <td>129.2252</td>\n",
       "      <td>7.9475</td>\n",
       "      <td>NaN</td>\n",
       "      <td>5.056978</td>\n",
       "      <td>422315.0</td>\n",
       "      <td>67.63675</td>\n",
       "      <td>9.53</td>\n",
       "      <td>NaN</td>\n",
       "    </tr>\n",
       "  </tbody>\n",
       "</table>\n",
       "</div>"
      ],
      "text/plain": [
       "            Real Gross Domestic Product for Germany  \\\n",
       "1991-01-01                                 517733.8   \n",
       "1991-04-01                                 515466.2   \n",
       "1991-07-01                                 514515.3   \n",
       "1991-10-01                                 521756.9   \n",
       "1992-01-01                                 529126.3   \n",
       "\n",
       "            Real Residential Property Prices for Germany  \\\n",
       "1991-01-01                                      129.6900   \n",
       "1991-04-01                                      131.2034   \n",
       "1991-07-01                                      130.2082   \n",
       "1991-10-01                                      129.0285   \n",
       "1992-01-01                                      129.2252   \n",
       "\n",
       "            Interest Rates: Long-Term Government Bond Yields: 10-Year: Main (Including Benchmark) for Germany  \\\n",
       "1991-01-01                                             8.9275                                                   \n",
       "1991-04-01                                             8.3575                                                   \n",
       "1991-07-01                                             8.6325                                                   \n",
       "1991-10-01                                             8.3475                                                   \n",
       "1992-01-01                                             7.9475                                                   \n",
       "\n",
       "            Global Economic Policy Uncertainty Index: Current Price Adjusted GDP  \\\n",
       "1991-01-01                                                NaN                      \n",
       "1991-04-01                                                NaN                      \n",
       "1991-07-01                                                NaN                      \n",
       "1991-10-01                                                NaN                      \n",
       "1992-01-01                                                NaN                      \n",
       "\n",
       "            Inflation, consumer prices for Germany  \\\n",
       "1991-01-01                                4.047033   \n",
       "1991-04-01                                     NaN   \n",
       "1991-07-01                                     NaN   \n",
       "1991-10-01                                     NaN   \n",
       "1992-01-01                                5.056978   \n",
       "\n",
       "            Gross Domestic Product for Germany  \\\n",
       "1991-01-01                            389789.0   \n",
       "1991-04-01                            396859.0   \n",
       "1991-07-01                            397814.0   \n",
       "1991-10-01                            412335.0   \n",
       "1992-01-01                            422315.0   \n",
       "\n",
       "            Consumer Price Indices (CPIs, HICPs), COICOP 1999: Consumer Price Index: Total for Germany  \\\n",
       "1991-01-01                                           63.99836                                            \n",
       "1991-04-01                                           64.55811                                            \n",
       "1991-07-01                                           65.86420                                            \n",
       "1991-10-01                                           66.89041                                            \n",
       "1992-01-01                                           67.63675                                            \n",
       "\n",
       "            Interest Rates: 3-Month or 90-Day Rates and Yields: Interbank Rates: Total for Germany  \\\n",
       "1991-01-01                                               9.35                                        \n",
       "1991-04-01                                               9.18                                        \n",
       "1991-07-01                                               9.15                                        \n",
       "1991-10-01                                               9.38                                        \n",
       "1992-01-01                                               9.53                                        \n",
       "\n",
       "            Gross Domestic Product for European Union (27 Countries from 2020)  \n",
       "1991-01-01                                                NaN                   \n",
       "1991-04-01                                                NaN                   \n",
       "1991-07-01                                                NaN                   \n",
       "1991-10-01                                                NaN                   \n",
       "1992-01-01                                                NaN                   "
      ]
     },
     "execution_count": 15,
     "metadata": {},
     "output_type": "execute_result"
    }
   ],
   "source": [
    "df_data.head()"
   ]
  },
  {
   "cell_type": "code",
   "execution_count": 16,
   "metadata": {},
   "outputs": [],
   "source": [
    "df_data = df_data.dropna()"
   ]
  },
  {
   "cell_type": "markdown",
   "metadata": {},
   "source": [
    "Reorder columns to put Residential Prices to first place:"
   ]
  },
  {
   "cell_type": "code",
   "execution_count": 17,
   "metadata": {},
   "outputs": [],
   "source": [
    "col_list = df_data.columns.to_list()"
   ]
  },
  {
   "cell_type": "code",
   "execution_count": 18,
   "metadata": {},
   "outputs": [
    {
     "data": {
      "text/plain": [
       "['Real Gross Domestic Product for Germany',\n",
       " 'Real Residential Property Prices for Germany',\n",
       " 'Interest Rates: Long-Term Government Bond Yields: 10-Year: Main (Including Benchmark) for Germany',\n",
       " 'Global Economic Policy Uncertainty Index: Current Price Adjusted GDP',\n",
       " 'Inflation, consumer prices for Germany',\n",
       " 'Gross Domestic Product for Germany',\n",
       " 'Consumer Price Indices (CPIs, HICPs), COICOP 1999: Consumer Price Index: Total for Germany',\n",
       " 'Interest Rates: 3-Month or 90-Day Rates and Yields: Interbank Rates: Total for Germany',\n",
       " 'Gross Domestic Product for European Union (27 Countries from 2020)']"
      ]
     },
     "execution_count": 18,
     "metadata": {},
     "output_type": "execute_result"
    }
   ],
   "source": [
    "col_list"
   ]
  },
  {
   "cell_type": "code",
   "execution_count": 19,
   "metadata": {},
   "outputs": [],
   "source": [
    "add = col_list[0]\n",
    "col_list = col_list[1:]\n",
    "col_list.append(add)"
   ]
  },
  {
   "cell_type": "code",
   "execution_count": 20,
   "metadata": {},
   "outputs": [
    {
     "data": {
      "text/plain": [
       "['Real Residential Property Prices for Germany',\n",
       " 'Interest Rates: Long-Term Government Bond Yields: 10-Year: Main (Including Benchmark) for Germany',\n",
       " 'Global Economic Policy Uncertainty Index: Current Price Adjusted GDP',\n",
       " 'Inflation, consumer prices for Germany',\n",
       " 'Gross Domestic Product for Germany',\n",
       " 'Consumer Price Indices (CPIs, HICPs), COICOP 1999: Consumer Price Index: Total for Germany',\n",
       " 'Interest Rates: 3-Month or 90-Day Rates and Yields: Interbank Rates: Total for Germany',\n",
       " 'Gross Domestic Product for European Union (27 Countries from 2020)',\n",
       " 'Real Gross Domestic Product for Germany']"
      ]
     },
     "execution_count": 20,
     "metadata": {},
     "output_type": "execute_result"
    }
   ],
   "source": [
    "col_list"
   ]
  },
  {
   "cell_type": "code",
   "execution_count": 21,
   "metadata": {},
   "outputs": [],
   "source": [
    "df_data = df_data[col_list]"
   ]
  },
  {
   "cell_type": "markdown",
   "metadata": {},
   "source": [
    "Linear regression for residential prices:"
   ]
  },
  {
   "cell_type": "code",
   "execution_count": 22,
   "metadata": {},
   "outputs": [
    {
     "name": "stdout",
     "output_type": "stream",
     "text": [
      "<class 'pandas.core.frame.DataFrame'>\n",
      "DatetimeIndex: 27 entries, 1997-01-01 to 2023-01-01\n",
      "Data columns (total 9 columns):\n",
      " #   Column                                                                                             Non-Null Count  Dtype  \n",
      "---  ------                                                                                             --------------  -----  \n",
      " 0   Real Residential Property Prices for Germany                                                       27 non-null     float64\n",
      " 1   Interest Rates: Long-Term Government Bond Yields: 10-Year: Main (Including Benchmark) for Germany  27 non-null     float64\n",
      " 2   Global Economic Policy Uncertainty Index: Current Price Adjusted GDP                               27 non-null     float64\n",
      " 3   Inflation, consumer prices for Germany                                                             27 non-null     float64\n",
      " 4   Gross Domestic Product for Germany                                                                 27 non-null     float64\n",
      " 5   Consumer Price Indices (CPIs, HICPs), COICOP 1999: Consumer Price Index: Total for Germany         27 non-null     float64\n",
      " 6   Interest Rates: 3-Month or 90-Day Rates and Yields: Interbank Rates: Total for Germany             27 non-null     float64\n",
      " 7   Gross Domestic Product for European Union (27 Countries from 2020)                                 27 non-null     float64\n",
      " 8   Real Gross Domestic Product for Germany                                                            27 non-null     float64\n",
      "dtypes: float64(9)\n",
      "memory usage: 2.1 KB\n"
     ]
    }
   ],
   "source": [
    "df_data.info()"
   ]
  },
  {
   "cell_type": "code",
   "execution_count": 32,
   "metadata": {},
   "outputs": [
    {
     "data": {
      "text/html": [
       "<div>\n",
       "<style scoped>\n",
       "    .dataframe tbody tr th:only-of-type {\n",
       "        vertical-align: middle;\n",
       "    }\n",
       "\n",
       "    .dataframe tbody tr th {\n",
       "        vertical-align: top;\n",
       "    }\n",
       "\n",
       "    .dataframe thead th {\n",
       "        text-align: right;\n",
       "    }\n",
       "</style>\n",
       "<table border=\"1\" class=\"dataframe\">\n",
       "  <thead>\n",
       "    <tr style=\"text-align: right;\">\n",
       "      <th></th>\n",
       "      <th>Real Residential Property Prices for Germany</th>\n",
       "      <th>Interest Rates: Long-Term Government Bond Yields: 10-Year: Main (Including Benchmark) for Germany</th>\n",
       "      <th>Global Economic Policy Uncertainty Index: Current Price Adjusted GDP</th>\n",
       "      <th>Inflation, consumer prices for Germany</th>\n",
       "      <th>Gross Domestic Product for Germany</th>\n",
       "      <th>Consumer Price Indices (CPIs, HICPs), COICOP 1999: Consumer Price Index: Total for Germany</th>\n",
       "      <th>Interest Rates: 3-Month or 90-Day Rates and Yields: Interbank Rates: Total for Germany</th>\n",
       "      <th>Gross Domestic Product for European Union (27 Countries from 2020)</th>\n",
       "      <th>Real Gross Domestic Product for Germany</th>\n",
       "    </tr>\n",
       "  </thead>\n",
       "  <tbody>\n",
       "    <tr>\n",
       "      <th>Real Residential Property Prices for Germany</th>\n",
       "      <td>1.000000</td>\n",
       "      <td>-0.444576</td>\n",
       "      <td>0.649790</td>\n",
       "      <td>0.547694</td>\n",
       "      <td>0.592939</td>\n",
       "      <td>0.483795</td>\n",
       "      <td>-0.351395</td>\n",
       "      <td>0.477888</td>\n",
       "      <td>0.480759</td>\n",
       "    </tr>\n",
       "    <tr>\n",
       "      <th>Interest Rates: Long-Term Government Bond Yields: 10-Year: Main (Including Benchmark) for Germany</th>\n",
       "      <td>-0.444576</td>\n",
       "      <td>1.000000</td>\n",
       "      <td>-0.798508</td>\n",
       "      <td>-0.154815</td>\n",
       "      <td>-0.869879</td>\n",
       "      <td>-0.846254</td>\n",
       "      <td>0.904015</td>\n",
       "      <td>-0.853772</td>\n",
       "      <td>-0.904111</td>\n",
       "    </tr>\n",
       "    <tr>\n",
       "      <th>Global Economic Policy Uncertainty Index: Current Price Adjusted GDP</th>\n",
       "      <td>0.649790</td>\n",
       "      <td>-0.798508</td>\n",
       "      <td>1.000000</td>\n",
       "      <td>0.377803</td>\n",
       "      <td>0.855766</td>\n",
       "      <td>0.825016</td>\n",
       "      <td>-0.649029</td>\n",
       "      <td>0.816464</td>\n",
       "      <td>0.823603</td>\n",
       "    </tr>\n",
       "    <tr>\n",
       "      <th>Inflation, consumer prices for Germany</th>\n",
       "      <td>0.547694</td>\n",
       "      <td>-0.154815</td>\n",
       "      <td>0.377803</td>\n",
       "      <td>1.000000</td>\n",
       "      <td>0.508904</td>\n",
       "      <td>0.506146</td>\n",
       "      <td>-0.044056</td>\n",
       "      <td>0.512407</td>\n",
       "      <td>0.401060</td>\n",
       "    </tr>\n",
       "    <tr>\n",
       "      <th>Gross Domestic Product for Germany</th>\n",
       "      <td>0.592939</td>\n",
       "      <td>-0.869879</td>\n",
       "      <td>0.855766</td>\n",
       "      <td>0.508904</td>\n",
       "      <td>1.000000</td>\n",
       "      <td>0.983630</td>\n",
       "      <td>-0.733670</td>\n",
       "      <td>0.983574</td>\n",
       "      <td>0.973840</td>\n",
       "    </tr>\n",
       "    <tr>\n",
       "      <th>Consumer Price Indices (CPIs, HICPs), COICOP 1999: Consumer Price Index: Total for Germany</th>\n",
       "      <td>0.483795</td>\n",
       "      <td>-0.846254</td>\n",
       "      <td>0.825016</td>\n",
       "      <td>0.506146</td>\n",
       "      <td>0.983630</td>\n",
       "      <td>1.000000</td>\n",
       "      <td>-0.721989</td>\n",
       "      <td>0.990532</td>\n",
       "      <td>0.951786</td>\n",
       "    </tr>\n",
       "    <tr>\n",
       "      <th>Interest Rates: 3-Month or 90-Day Rates and Yields: Interbank Rates: Total for Germany</th>\n",
       "      <td>-0.351395</td>\n",
       "      <td>0.904015</td>\n",
       "      <td>-0.649029</td>\n",
       "      <td>-0.044056</td>\n",
       "      <td>-0.733670</td>\n",
       "      <td>-0.721989</td>\n",
       "      <td>1.000000</td>\n",
       "      <td>-0.712242</td>\n",
       "      <td>-0.761474</td>\n",
       "    </tr>\n",
       "    <tr>\n",
       "      <th>Gross Domestic Product for European Union (27 Countries from 2020)</th>\n",
       "      <td>0.477888</td>\n",
       "      <td>-0.853772</td>\n",
       "      <td>0.816464</td>\n",
       "      <td>0.512407</td>\n",
       "      <td>0.983574</td>\n",
       "      <td>0.990532</td>\n",
       "      <td>-0.712242</td>\n",
       "      <td>1.000000</td>\n",
       "      <td>0.968905</td>\n",
       "    </tr>\n",
       "    <tr>\n",
       "      <th>Real Gross Domestic Product for Germany</th>\n",
       "      <td>0.480759</td>\n",
       "      <td>-0.904111</td>\n",
       "      <td>0.823603</td>\n",
       "      <td>0.401060</td>\n",
       "      <td>0.973840</td>\n",
       "      <td>0.951786</td>\n",
       "      <td>-0.761474</td>\n",
       "      <td>0.968905</td>\n",
       "      <td>1.000000</td>\n",
       "    </tr>\n",
       "  </tbody>\n",
       "</table>\n",
       "</div>"
      ],
      "text/plain": [
       "                                                    Real Residential Property Prices for Germany  \\\n",
       "Real Residential Property Prices for Germany                                            1.000000   \n",
       "Interest Rates: Long-Term Government Bond Yield...                                     -0.444576   \n",
       "Global Economic Policy Uncertainty Index: Curre...                                      0.649790   \n",
       "Inflation, consumer prices for Germany                                                  0.547694   \n",
       "Gross Domestic Product for Germany                                                      0.592939   \n",
       "Consumer Price Indices (CPIs, HICPs), COICOP 19...                                      0.483795   \n",
       "Interest Rates: 3-Month or 90-Day Rates and Yie...                                     -0.351395   \n",
       "Gross Domestic Product for European Union (27 C...                                      0.477888   \n",
       "Real Gross Domestic Product for Germany                                                 0.480759   \n",
       "\n",
       "                                                    Interest Rates: Long-Term Government Bond Yields: 10-Year: Main (Including Benchmark) for Germany  \\\n",
       "Real Residential Property Prices for Germany                                                -0.444576                                                   \n",
       "Interest Rates: Long-Term Government Bond Yield...                                           1.000000                                                   \n",
       "Global Economic Policy Uncertainty Index: Curre...                                          -0.798508                                                   \n",
       "Inflation, consumer prices for Germany                                                      -0.154815                                                   \n",
       "Gross Domestic Product for Germany                                                          -0.869879                                                   \n",
       "Consumer Price Indices (CPIs, HICPs), COICOP 19...                                          -0.846254                                                   \n",
       "Interest Rates: 3-Month or 90-Day Rates and Yie...                                           0.904015                                                   \n",
       "Gross Domestic Product for European Union (27 C...                                          -0.853772                                                   \n",
       "Real Gross Domestic Product for Germany                                                     -0.904111                                                   \n",
       "\n",
       "                                                    Global Economic Policy Uncertainty Index: Current Price Adjusted GDP  \\\n",
       "Real Residential Property Prices for Germany                                                 0.649790                      \n",
       "Interest Rates: Long-Term Government Bond Yield...                                          -0.798508                      \n",
       "Global Economic Policy Uncertainty Index: Curre...                                           1.000000                      \n",
       "Inflation, consumer prices for Germany                                                       0.377803                      \n",
       "Gross Domestic Product for Germany                                                           0.855766                      \n",
       "Consumer Price Indices (CPIs, HICPs), COICOP 19...                                           0.825016                      \n",
       "Interest Rates: 3-Month or 90-Day Rates and Yie...                                          -0.649029                      \n",
       "Gross Domestic Product for European Union (27 C...                                           0.816464                      \n",
       "Real Gross Domestic Product for Germany                                                      0.823603                      \n",
       "\n",
       "                                                    Inflation, consumer prices for Germany  \\\n",
       "Real Residential Property Prices for Germany                                      0.547694   \n",
       "Interest Rates: Long-Term Government Bond Yield...                               -0.154815   \n",
       "Global Economic Policy Uncertainty Index: Curre...                                0.377803   \n",
       "Inflation, consumer prices for Germany                                            1.000000   \n",
       "Gross Domestic Product for Germany                                                0.508904   \n",
       "Consumer Price Indices (CPIs, HICPs), COICOP 19...                                0.506146   \n",
       "Interest Rates: 3-Month or 90-Day Rates and Yie...                               -0.044056   \n",
       "Gross Domestic Product for European Union (27 C...                                0.512407   \n",
       "Real Gross Domestic Product for Germany                                           0.401060   \n",
       "\n",
       "                                                    Gross Domestic Product for Germany  \\\n",
       "Real Residential Property Prices for Germany                                  0.592939   \n",
       "Interest Rates: Long-Term Government Bond Yield...                           -0.869879   \n",
       "Global Economic Policy Uncertainty Index: Curre...                            0.855766   \n",
       "Inflation, consumer prices for Germany                                        0.508904   \n",
       "Gross Domestic Product for Germany                                            1.000000   \n",
       "Consumer Price Indices (CPIs, HICPs), COICOP 19...                            0.983630   \n",
       "Interest Rates: 3-Month or 90-Day Rates and Yie...                           -0.733670   \n",
       "Gross Domestic Product for European Union (27 C...                            0.983574   \n",
       "Real Gross Domestic Product for Germany                                       0.973840   \n",
       "\n",
       "                                                    Consumer Price Indices (CPIs, HICPs), COICOP 1999: Consumer Price Index: Total for Germany  \\\n",
       "Real Residential Property Prices for Germany                                                 0.483795                                            \n",
       "Interest Rates: Long-Term Government Bond Yield...                                          -0.846254                                            \n",
       "Global Economic Policy Uncertainty Index: Curre...                                           0.825016                                            \n",
       "Inflation, consumer prices for Germany                                                       0.506146                                            \n",
       "Gross Domestic Product for Germany                                                           0.983630                                            \n",
       "Consumer Price Indices (CPIs, HICPs), COICOP 19...                                           1.000000                                            \n",
       "Interest Rates: 3-Month or 90-Day Rates and Yie...                                          -0.721989                                            \n",
       "Gross Domestic Product for European Union (27 C...                                           0.990532                                            \n",
       "Real Gross Domestic Product for Germany                                                      0.951786                                            \n",
       "\n",
       "                                                    Interest Rates: 3-Month or 90-Day Rates and Yields: Interbank Rates: Total for Germany  \\\n",
       "Real Residential Property Prices for Germany                                                -0.351395                                        \n",
       "Interest Rates: Long-Term Government Bond Yield...                                           0.904015                                        \n",
       "Global Economic Policy Uncertainty Index: Curre...                                          -0.649029                                        \n",
       "Inflation, consumer prices for Germany                                                      -0.044056                                        \n",
       "Gross Domestic Product for Germany                                                          -0.733670                                        \n",
       "Consumer Price Indices (CPIs, HICPs), COICOP 19...                                          -0.721989                                        \n",
       "Interest Rates: 3-Month or 90-Day Rates and Yie...                                           1.000000                                        \n",
       "Gross Domestic Product for European Union (27 C...                                          -0.712242                                        \n",
       "Real Gross Domestic Product for Germany                                                     -0.761474                                        \n",
       "\n",
       "                                                    Gross Domestic Product for European Union (27 Countries from 2020)  \\\n",
       "Real Residential Property Prices for Germany                                                 0.477888                    \n",
       "Interest Rates: Long-Term Government Bond Yield...                                          -0.853772                    \n",
       "Global Economic Policy Uncertainty Index: Curre...                                           0.816464                    \n",
       "Inflation, consumer prices for Germany                                                       0.512407                    \n",
       "Gross Domestic Product for Germany                                                           0.983574                    \n",
       "Consumer Price Indices (CPIs, HICPs), COICOP 19...                                           0.990532                    \n",
       "Interest Rates: 3-Month or 90-Day Rates and Yie...                                          -0.712242                    \n",
       "Gross Domestic Product for European Union (27 C...                                           1.000000                    \n",
       "Real Gross Domestic Product for Germany                                                      0.968905                    \n",
       "\n",
       "                                                    Real Gross Domestic Product for Germany  \n",
       "Real Residential Property Prices for Germany                                       0.480759  \n",
       "Interest Rates: Long-Term Government Bond Yield...                                -0.904111  \n",
       "Global Economic Policy Uncertainty Index: Curre...                                 0.823603  \n",
       "Inflation, consumer prices for Germany                                             0.401060  \n",
       "Gross Domestic Product for Germany                                                 0.973840  \n",
       "Consumer Price Indices (CPIs, HICPs), COICOP 19...                                 0.951786  \n",
       "Interest Rates: 3-Month or 90-Day Rates and Yie...                                -0.761474  \n",
       "Gross Domestic Product for European Union (27 C...                                 0.968905  \n",
       "Real Gross Domestic Product for Germany                                            1.000000  "
      ]
     },
     "execution_count": 32,
     "metadata": {},
     "output_type": "execute_result"
    }
   ],
   "source": [
    "df_data.corr()"
   ]
  },
  {
   "cell_type": "code",
   "execution_count": 33,
   "metadata": {},
   "outputs": [],
   "source": [
    "reg = linear_model.LinearRegression()"
   ]
  },
  {
   "cell_type": "code",
   "execution_count": 84,
   "metadata": {},
   "outputs": [],
   "source": [
    "X = np.array(df_data['Inflation, consumer prices for Germany']).reshape(-1,1)"
   ]
  },
  {
   "cell_type": "code",
   "execution_count": 85,
   "metadata": {},
   "outputs": [],
   "source": [
    "Y = np.array(df_data['Real Residential Property Prices for Germany']).reshape(-1,1)"
   ]
  },
  {
   "cell_type": "code",
   "execution_count": 86,
   "metadata": {},
   "outputs": [
    {
     "data": {
      "text/plain": [
       "LinearRegression()"
      ]
     },
     "execution_count": 86,
     "metadata": {},
     "output_type": "execute_result"
    }
   ],
   "source": [
    "reg.fit(X,Y)"
   ]
  },
  {
   "cell_type": "code",
   "execution_count": 87,
   "metadata": {},
   "outputs": [],
   "source": [
    "Y_p = reg.predict(X)"
   ]
  },
  {
   "cell_type": "code",
   "execution_count": 44,
   "metadata": {},
   "outputs": [
    {
     "data": {
      "image/png": "[encoded data removed]",
      "text/plain": [
       "<Figure size 432x288 with 1 Axes>"
      ]
     },
     "metadata": {
      "needs_background": "light"
     },
     "output_type": "display_data"
    }
   ],
   "source": [
    "plt.scatter(X,Y)\n",
    "plt.plot(X,Y_p)\n",
    "plt.show()"
   ]
  },
  {
   "cell_type": "code",
   "execution_count": 45,
   "metadata": {},
   "outputs": [
    {
     "data": {
      "text/plain": [
       "(array([[5.71536573]]), array([105.76949155]))"
      ]
     },
     "execution_count": 45,
     "metadata": {},
     "output_type": "execute_result"
    }
   ],
   "source": [
    "reg.coef_, reg.intercept_"
   ]
  },
  {
   "cell_type": "markdown",
   "metadata": {},
   "source": [
    "Multilinear regression:"
   ]
  },
  {
   "cell_type": "code",
   "execution_count": 98,
   "metadata": {},
   "outputs": [],
   "source": [
    "X = df_data[['Global Economic Policy Uncertainty Index: Current Price Adjusted GDP',\n",
    "             'Inflation, consumer prices for Germany',\n",
    "             'Real Gross Domestic Product for Germany']]"
   ]
  },
  {
   "cell_type": "code",
   "execution_count": 100,
   "metadata": {},
   "outputs": [
    {
     "data": {
      "text/plain": [
       "LinearRegression()"
      ]
     },
     "execution_count": 100,
     "metadata": {},
     "output_type": "execute_result"
    }
   ],
   "source": [
    "reg.fit(X,Y)"
   ]
  },
  {
   "cell_type": "code",
   "execution_count": 101,
   "metadata": {},
   "outputs": [],
   "source": [
    "Y_p = reg.predict(X)"
   ]
  },
  {
   "cell_type": "code",
   "execution_count": 112,
   "metadata": {},
   "outputs": [],
   "source": [
    "df_data['pred_real_estate_prices'] = Y_p"
   ]
  },
  {
   "cell_type": "code",
   "execution_count": 120,
   "metadata": {},
   "outputs": [
    {
     "data": {
      "image/png": "[encoded data removed]",
      "text/plain": [
       "<Figure size 432x288 with 1 Axes>"
      ]
     },
     "metadata": {
      "needs_background": "light"
     },
     "output_type": "display_data"
    }
   ],
   "source": [
    "plt.scatter(df_data.index,df_data['pred_real_estate_prices'],label='predicted values for real estate index',color='r')\n",
    "plt.scatter(df_data.index,df_data['Real Residential Property Prices for Germany'],label='real estate index',color='b')\n",
    "plt.legend(loc='best')\n",
    "plt.show()"
   ]
  },
  {
   "cell_type": "code",
   "execution_count": null,
   "metadata": {},
   "outputs": [],
   "source": []
  }
 ],
 "metadata": {
  "kernelspec": {
   "display_name": "Python 3",
   "language": "python",
   "name": "python3"
  },
  "language_info": {
   "codemirror_mode": {
    "name": "ipython",
    "version": 3
   },
   "file_extension": ".py",
   "mimetype": "text/x-python",
   "name": "python",
   "nbconvert_exporter": "python",
   "pygments_lexer": "ipython3",
   "version": "3.8.5"
  }
 },
 "nbformat": 4,
 "nbformat_minor": 4
}
